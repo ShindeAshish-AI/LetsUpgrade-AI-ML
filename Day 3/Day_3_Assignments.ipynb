{
  "nbformat": 4,
  "nbformat_minor": 0,
  "metadata": {
    "colab": {
      "name": "Day 3 Assignments.ipynb",
      "provenance": []
    },
    "kernelspec": {
      "name": "python3",
      "display_name": "Python 3"
    }
  },
  "cells": [
    {
      "cell_type": "markdown",
      "metadata": {
        "id": "YKVXkyXYnsV-",
        "colab_type": "text"
      },
      "source": [
        "Que 1 - Write a program to subtract two complex numbers in Python\n"
      ]
    },
    {
      "cell_type": "code",
      "metadata": {
        "id": "m-LeDF29n7in",
        "colab_type": "code",
        "colab": {
          "base_uri": "https://localhost:8080/",
          "height": 34
        },
        "outputId": "ae584a2e-4051-4491-a8dc-ef6fc07908ae"
      },
      "source": [
        "3.14j - 1.02j"
      ],
      "execution_count": 1,
      "outputs": [
        {
          "output_type": "execute_result",
          "data": {
            "text/plain": [
              "2.12j"
            ]
          },
          "metadata": {
            "tags": []
          },
          "execution_count": 1
        }
      ]
    },
    {
      "cell_type": "markdown",
      "metadata": {
        "id": "KakfYvNloW8x",
        "colab_type": "text"
      },
      "source": [
        "Que 2 - Write a program to find the fourth root of a number\n"
      ]
    },
    {
      "cell_type": "code",
      "metadata": {
        "id": "_DiUAYPloj3x",
        "colab_type": "code",
        "colab": {
          "base_uri": "https://localhost:8080/",
          "height": 34
        },
        "outputId": "0356663d-3af1-4edf-bcc7-6e73cc69e4d6"
      },
      "source": [
        "8 ** (1/4)"
      ],
      "execution_count": 4,
      "outputs": [
        {
          "output_type": "execute_result",
          "data": {
            "text/plain": [
              "1.681792830507429"
            ]
          },
          "metadata": {
            "tags": []
          },
          "execution_count": 4
        }
      ]
    },
    {
      "cell_type": "markdown",
      "metadata": {
        "id": "2QRMckDRuWKx",
        "colab_type": "text"
      },
      "source": [
        "Que 3 - Write a program to swap two numbers in Python with the help of a temporary variable."
      ]
    },
    {
      "cell_type": "code",
      "metadata": {
        "id": "wl5FHEeZuiFX",
        "colab_type": "code",
        "colab": {
          "base_uri": "https://localhost:8080/",
          "height": 51
        },
        "outputId": "4cfa77f0-8d9d-4846-974c-494b7a0439b6"
      },
      "source": [
        "a = 5\n",
        "b = 9\n",
        "print(a, b)\n",
        "\n",
        "c = a\n",
        "a = b\n",
        "b = c\n",
        "print(a,b)"
      ],
      "execution_count": 13,
      "outputs": [
        {
          "output_type": "stream",
          "text": [
            "5 9\n",
            "9 5\n"
          ],
          "name": "stdout"
        }
      ]
    },
    {
      "cell_type": "markdown",
      "metadata": {
        "id": "c9zyNWos6Q2Y",
        "colab_type": "text"
      },
      "source": [
        "Que 4 - Write a program to swap two numbers in Python without using a temporary variable."
      ]
    },
    {
      "cell_type": "code",
      "metadata": {
        "id": "JDZcJLfT6aM5",
        "colab_type": "code",
        "colab": {
          "base_uri": "https://localhost:8080/",
          "height": 51
        },
        "outputId": "5d648012-4bf8-4092-a2ae-4819583eb5bf"
      },
      "source": [
        "a = 5.0\n",
        "b = 25.0\n",
        "print(a, b)\n",
        "\n",
        "a = a * b\n",
        "b = a / b\n",
        "a = a / b\n",
        "print(a, b)"
      ],
      "execution_count": 21,
      "outputs": [
        {
          "output_type": "stream",
          "text": [
            "5.0 25.0\n",
            "25.0 5.0\n"
          ],
          "name": "stdout"
        }
      ]
    },
    {
      "cell_type": "code",
      "metadata": {
        "id": "trecD1Lu9QT8",
        "colab_type": "code",
        "colab": {
          "base_uri": "https://localhost:8080/",
          "height": 51
        },
        "outputId": "bf28e29f-8481-440d-b000-8c6b37c06158"
      },
      "source": [
        "a = 5.0\n",
        "b = 25.0\n",
        "print(a, b)\n",
        "\n",
        "a = a + b\n",
        "b = a - b\n",
        "a = a - b\n",
        "print(a, b)"
      ],
      "execution_count": 22,
      "outputs": [
        {
          "output_type": "stream",
          "text": [
            "5.0 25.0\n",
            "25.0 5.0\n"
          ],
          "name": "stdout"
        }
      ]
    },
    {
      "cell_type": "markdown",
      "metadata": {
        "id": "b9xWCl6N9Y3z",
        "colab_type": "text"
      },
      "source": [
        "Que 5 - Write a program to convert fahrenheit to kelvin and celsius both."
      ]
    },
    {
      "cell_type": "code",
      "metadata": {
        "id": "EBNT5rv99lrH",
        "colab_type": "code",
        "colab": {
          "base_uri": "https://localhost:8080/",
          "height": 34
        },
        "outputId": "62a552f2-2cc7-4662-cd1f-322c4fb36066"
      },
      "source": [
        "# fahrenheit to Kelvin\n",
        "F = 100 \n",
        "K = (100 - 32) * 5/9 + 273.15\n",
        "print(K)\n",
        "# Formula (100°F − 32) × 5/9 + 273.15 = 310.928K"
      ],
      "execution_count": 9,
      "outputs": [
        {
          "output_type": "stream",
          "text": [
            "310.92777777777775\n"
          ],
          "name": "stdout"
        }
      ]
    },
    {
      "cell_type": "code",
      "metadata": {
        "id": "BbNmKzQONnea",
        "colab_type": "code",
        "colab": {
          "base_uri": "https://localhost:8080/",
          "height": 34
        },
        "outputId": "e12b806b-f8fc-4014-c715-1e309d898ca6"
      },
      "source": [
        "# fahrenheit to Celsius\n",
        "F = 100 \n",
        "C = (100 - 32) * 5/9\n",
        "print(C)\n",
        "# Formula (100°F − 32) × 5/9 = 37.778°C"
      ],
      "execution_count": 12,
      "outputs": [
        {
          "output_type": "stream",
          "text": [
            "37.77777777777778\n"
          ],
          "name": "stdout"
        }
      ]
    },
    {
      "cell_type": "markdown",
      "metadata": {
        "id": "L03C7wqMAGHx",
        "colab_type": "text"
      },
      "source": [
        "Que 6 - Write a program to demonstrate all the available data types in Python. Hint: Use type() function."
      ]
    },
    {
      "cell_type": "code",
      "metadata": {
        "id": "7yC_igCQwX6_",
        "colab_type": "code",
        "colab": {
          "base_uri": "https://localhost:8080/",
          "height": 34
        },
        "outputId": "98737d10-6074-48aa-931b-8dbc48f69948"
      },
      "source": [
        "a = 52\n",
        "print(type(a))\n"
      ],
      "execution_count": 24,
      "outputs": [
        {
          "output_type": "stream",
          "text": [
            "<class 'int'>\n"
          ],
          "name": "stdout"
        }
      ]
    },
    {
      "cell_type": "code",
      "metadata": {
        "id": "ps5RjvfcADqq",
        "colab_type": "code",
        "colab": {
          "base_uri": "https://localhost:8080/",
          "height": 34
        },
        "outputId": "5f2235ee-9ebb-48da-c7b2-0aca17ef157f"
      },
      "source": [
        "Name = \"Ashish\"\n",
        "print(type(Name))"
      ],
      "execution_count": 27,
      "outputs": [
        {
          "output_type": "stream",
          "text": [
            "<class 'str'>\n"
          ],
          "name": "stdout"
        }
      ]
    },
    {
      "cell_type": "code",
      "metadata": {
        "id": "AFc_kOjlK1RT",
        "colab_type": "code",
        "colab": {
          "base_uri": "https://localhost:8080/",
          "height": 34
        },
        "outputId": "890e8342-0d19-4d1f-b0af-0a9938a0b48c"
      },
      "source": [
        "a = 20.5\n",
        "print(type(a))"
      ],
      "execution_count": 5,
      "outputs": [
        {
          "output_type": "stream",
          "text": [
            "<class 'float'>\n"
          ],
          "name": "stdout"
        }
      ]
    },
    {
      "cell_type": "code",
      "metadata": {
        "id": "QEXoyZ-hLEqg",
        "colab_type": "code",
        "colab": {
          "base_uri": "https://localhost:8080/",
          "height": 34
        },
        "outputId": "2957c10c-49cb-4f28-8754-c9132de5e68f"
      },
      "source": [
        "a = 1j\n",
        "print (type(a))"
      ],
      "execution_count": 6,
      "outputs": [
        {
          "output_type": "stream",
          "text": [
            "<class 'complex'>\n"
          ],
          "name": "stdout"
        }
      ]
    },
    {
      "cell_type": "code",
      "metadata": {
        "id": "YL53gqGgLLhz",
        "colab_type": "code",
        "colab": {
          "base_uri": "https://localhost:8080/",
          "height": 34
        },
        "outputId": "f879db7e-fd56-4e1d-bb36-2cf54ec9d316"
      },
      "source": [
        "fruits = (\"mango\", \"banana\", \"pineapple\", \"apple\")   #name in ( ) is tuple\n",
        "print(type(fruits))"
      ],
      "execution_count": 7,
      "outputs": [
        {
          "output_type": "stream",
          "text": [
            "<class 'tuple'>\n"
          ],
          "name": "stdout"
        }
      ]
    },
    {
      "cell_type": "code",
      "metadata": {
        "id": "5JxiH1q7JsBd",
        "colab_type": "code",
        "colab": {
          "base_uri": "https://localhost:8080/",
          "height": 34
        },
        "outputId": "6656378a-f36c-4ebb-8894-363c0bbb3d34"
      },
      "source": [
        "fruits = [\"mango\", \"banana\", \"pineapple\", \"apple\"]   #name in [ ] is list\n",
        "print(type(fruits))\n"
      ],
      "execution_count": 4,
      "outputs": [
        {
          "output_type": "stream",
          "text": [
            "<class 'list'>\n"
          ],
          "name": "stdout"
        }
      ]
    },
    {
      "cell_type": "markdown",
      "metadata": {
        "id": "NtPLLDWQS6DV",
        "colab_type": "text"
      },
      "source": [
        "Que 7 Create a Markdown cell in jupyter and list the steps discussed in the session by Dr. Darshan\n",
        "Ingle sir to create Github profile and upload Githubs Assignment link."
      ]
    },
    {
      "cell_type": "markdown",
      "metadata": {
        "id": "xnwuSEbcS3ef",
        "colab_type": "text"
      },
      "source": [
        "# Github login process\n",
        "\n",
        "goto browser type https://github.com\n",
        "\n",
        "1. Signup profile \n",
        "\n",
        "2. Create a public repository and Name __LetsUpgrade AI-ML__\n",
        "\n",
        "3. Upload daily assignments Day 3, Day 4 folder in the repository in day wise manner. \n",
        "\n",
        "4. Share / Copy the URL of the Folder of that day and paste in the Assignment Form. "
      ]
    }
  ]
}