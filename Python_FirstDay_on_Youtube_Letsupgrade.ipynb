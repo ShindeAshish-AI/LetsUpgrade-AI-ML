{
  "nbformat": 4,
  "nbformat_minor": 0,
  "metadata": {
    "colab": {
      "name": "Python FirstDay on Youtube Letsupgrade.ipynb",
      "provenance": [],
      "authorship_tag": "ABX9TyOIWZGkTzKFPN+FqQ8s9+5m",
      "include_colab_link": true
    },
    "kernelspec": {
      "name": "python3",
      "display_name": "Python 3"
    },
    "language_info": {
      "name": "python"
    }
  },
  "cells": [
    {
      "cell_type": "markdown",
      "metadata": {
        "id": "view-in-github",
        "colab_type": "text"
      },
      "source": [
        "<a href=\"https://colab.research.google.com/github/ShindeAshish-AI/LetsUpgrade-AI-ML/blob/master/Python_FirstDay_on_Youtube_Letsupgrade.ipynb\" target=\"_parent\"><img src=\"https://colab.research.google.com/assets/colab-badge.svg\" alt=\"Open In Colab\"/></a>"
      ]
    },
    {
      "cell_type": "code",
      "metadata": {
        "id": "UoZ7kAqBgqPT"
      },
      "source": [
        "# Ourr first Project - Calculator\n"
      ],
      "execution_count": null,
      "outputs": []
    },
    {
      "cell_type": "code",
      "metadata": {
        "id": "Id4WISOkhLWY"
      },
      "source": [
        "# Step 1 - Perfect addition in Python\n",
        "# Step 2 - Store the result in some veriable and show the result\n",
        "# Stpe 3 - Take user Input for Dynamic Addition"
      ],
      "execution_count": 1,
      "outputs": []
    },
    {
      "cell_type": "code",
      "metadata": {
        "colab": {
          "base_uri": "https://localhost:8080/"
        },
        "id": "PU9_Df3mhtxl",
        "outputId": "deffd5e5-03c2-45e4-ec38-8161d437403b"
      },
      "source": [
        "# Step 1 - \n",
        "\n",
        "20 + 30"
      ],
      "execution_count": 2,
      "outputs": [
        {
          "output_type": "execute_result",
          "data": {
            "text/plain": [
              "50"
            ]
          },
          "metadata": {
            "tags": []
          },
          "execution_count": 2
        }
      ]
    },
    {
      "cell_type": "code",
      "metadata": {
        "id": "KYUVEH7AiquT"
      },
      "source": [
        "#Step 2 -\n",
        "\n",
        "ourSum = 20 + 30\n",
        "\n"
      ],
      "execution_count": 8,
      "outputs": []
    },
    {
      "cell_type": "code",
      "metadata": {
        "colab": {
          "base_uri": "https://localhost:8080/"
        },
        "id": "nc29Dl7zi5T7",
        "outputId": "b25f54dd-8e4e-45cf-be8d-57c3343a37b7"
      },
      "source": [
        "ourSum"
      ],
      "execution_count": 4,
      "outputs": [
        {
          "output_type": "execute_result",
          "data": {
            "text/plain": [
              "50"
            ]
          },
          "metadata": {
            "tags": []
          },
          "execution_count": 4
        }
      ]
    },
    {
      "cell_type": "code",
      "metadata": {
        "colab": {
          "base_uri": "https://localhost:8080/"
        },
        "id": "rC14tovzi9HM",
        "outputId": "8b2d9d32-78d7-4087-9b11-f2bd29cd3ca6"
      },
      "source": [
        "print(ourSum)"
      ],
      "execution_count": 5,
      "outputs": [
        {
          "output_type": "stream",
          "text": [
            "50\n"
          ],
          "name": "stdout"
        }
      ]
    },
    {
      "cell_type": "code",
      "metadata": {
        "colab": {
          "base_uri": "https://localhost:8080/"
        },
        "id": "V-jJ0uGgjCFd",
        "outputId": "9a8e8282-d2b7-4146-be55-fcc28b2bd82d"
      },
      "source": [
        "# Step 3 - How to take input and convert string to integer\n",
        "\n",
        "a = input(\"Entre your First Number\")"
      ],
      "execution_count": 9,
      "outputs": [
        {
          "output_type": "stream",
          "text": [
            "Entre your First Number25\n"
          ],
          "name": "stdout"
        }
      ]
    },
    {
      "cell_type": "code",
      "metadata": {
        "colab": {
          "base_uri": "https://localhost:8080/",
          "height": 35
        },
        "id": "WZWa-YaalaZQ",
        "outputId": "0a50b2db-94d7-41e1-a99f-6d78d5d2d28f"
      },
      "source": [
        "a"
      ],
      "execution_count": 10,
      "outputs": [
        {
          "output_type": "execute_result",
          "data": {
            "application/vnd.google.colaboratory.intrinsic+json": {
              "type": "string"
            },
            "text/plain": [
              "'25'"
            ]
          },
          "metadata": {
            "tags": []
          },
          "execution_count": 10
        }
      ]
    },
    {
      "cell_type": "code",
      "metadata": {
        "colab": {
          "base_uri": "https://localhost:8080/"
        },
        "id": "y8laBqahleiL",
        "outputId": "b6c2ec66-4aef-40eb-ff5c-383d92eec42c"
      },
      "source": [
        "type (a)"
      ],
      "execution_count": 11,
      "outputs": [
        {
          "output_type": "execute_result",
          "data": {
            "text/plain": [
              "str"
            ]
          },
          "metadata": {
            "tags": []
          },
          "execution_count": 11
        }
      ]
    },
    {
      "cell_type": "code",
      "metadata": {
        "id": "ahvmDvD-lpNj"
      },
      "source": [
        "# Converting a from string to Integer \n",
        "\n",
        "a = int(a)"
      ],
      "execution_count": 12,
      "outputs": []
    },
    {
      "cell_type": "code",
      "metadata": {
        "colab": {
          "base_uri": "https://localhost:8080/"
        },
        "id": "dln_ZFSYl1Mu",
        "outputId": "7bb55874-d5e9-498a-b0b8-48423aa5d113"
      },
      "source": [
        "type(a)"
      ],
      "execution_count": 13,
      "outputs": [
        {
          "output_type": "execute_result",
          "data": {
            "text/plain": [
              "int"
            ]
          },
          "metadata": {
            "tags": []
          },
          "execution_count": 13
        }
      ]
    },
    {
      "cell_type": "code",
      "metadata": {
        "colab": {
          "base_uri": "https://localhost:8080/"
        },
        "id": "hLCurb99l5U8",
        "outputId": "8045b569-290e-418c-bc30-1ae9869a2b12"
      },
      "source": [
        "b = input(\"Enter your Second Number\")"
      ],
      "execution_count": 14,
      "outputs": [
        {
          "output_type": "stream",
          "text": [
            "Enter your Second Number5\n"
          ],
          "name": "stdout"
        }
      ]
    },
    {
      "cell_type": "code",
      "metadata": {
        "id": "Y2CkqtpbmxUZ"
      },
      "source": [
        "b = int(b)"
      ],
      "execution_count": 15,
      "outputs": []
    },
    {
      "cell_type": "code",
      "metadata": {
        "colab": {
          "base_uri": "https://localhost:8080/"
        },
        "id": "YzTnEsOMm3wV",
        "outputId": "4c06357b-7bdc-4180-b5cb-ca4bed3d4cec"
      },
      "source": [
        "b"
      ],
      "execution_count": 16,
      "outputs": [
        {
          "output_type": "execute_result",
          "data": {
            "text/plain": [
              "5"
            ]
          },
          "metadata": {
            "tags": []
          },
          "execution_count": 16
        }
      ]
    },
    {
      "cell_type": "code",
      "metadata": {
        "id": "kTI6Cnd6m5HQ"
      },
      "source": [
        "sum1 = a + b"
      ],
      "execution_count": 17,
      "outputs": []
    },
    {
      "cell_type": "code",
      "metadata": {
        "colab": {
          "base_uri": "https://localhost:8080/"
        },
        "id": "FiyvFlNsnVPQ",
        "outputId": "c522639e-e232-4fd2-972e-9123a32150ea"
      },
      "source": [
        "print(\"Your addition is \", sum1)"
      ],
      "execution_count": 18,
      "outputs": [
        {
          "output_type": "stream",
          "text": [
            "Your addition is  30\n"
          ],
          "name": "stdout"
        }
      ]
    },
    {
      "cell_type": "code",
      "metadata": {
        "colab": {
          "base_uri": "https://localhost:8080/"
        },
        "id": "yGQgoESBnfcS",
        "outputId": "f260067b-16fd-4325-c8f3-fdc0f80c0731"
      },
      "source": [
        "a = int(input(\"First Number\" ))\n",
        "b = int(input(\"Second Number\" ))\n",
        "Sum2 = a + b\n",
        "print(\"Our Sum is \", Sum2)"
      ],
      "execution_count": 20,
      "outputs": [
        {
          "output_type": "stream",
          "text": [
            "First Number14\n",
            "Second Number23\n",
            "Our Sum is  37\n"
          ],
          "name": "stdout"
        }
      ]
    },
    {
      "cell_type": "code",
      "metadata": {
        "id": "jowvtMLJoK5i"
      },
      "source": [
        ""
      ],
      "execution_count": null,
      "outputs": []
    }
  ]
}